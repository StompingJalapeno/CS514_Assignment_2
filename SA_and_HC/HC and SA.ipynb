{
 "cells": [
  {
   "cell_type": "code",
   "execution_count": 12,
   "metadata": {},
   "outputs": [],
   "source": [
    "import numpy as np\n",
    "import matplotlib.pyplot as plt\n",
    "import random\n",
    "import time\n",
    "import math"
   ]
  },
  {
   "cell_type": "code",
   "execution_count": 13,
   "metadata": {},
   "outputs": [],
   "source": [
    "# ------------------------ COMMON SETUP ------------------------\n",
    "np.random.seed(42)\n",
    "num_cities = 20\n",
    "cities = np.random.rand(num_cities, 2)\n",
    "\n",
    "def total_distance(path):\n",
    "    return sum(np.linalg.norm(cities[path[i]] - cities[path[(i + 1) % len(path)]]) for i in range(len(path)))\n",
    "\n",
    "def get_neighbor(path):\n",
    "    a, b = random.sample(range(len(path)), 2)\n",
    "    new_path = path.copy()\n",
    "    new_path[a], new_path[b] = new_path[b], new_path[a]\n",
    "    return new_path"
   ]
  },
  {
   "cell_type": "code",
   "execution_count": 14,
   "metadata": {},
   "outputs": [],
   "source": [
    "# ------------------------ HILL CLIMBING ------------------------\n",
    "def run_hill_climbing():\n",
    "    path = list(range(num_cities))\n",
    "    random.shuffle(path)\n",
    "    best_path = path.copy()\n",
    "    best_distance = total_distance(best_path)\n",
    "\n",
    "    for _ in range(1000):\n",
    "        neighbor = get_neighbor(best_path)\n",
    "        dist = total_distance(neighbor)\n",
    "        if dist < best_distance:\n",
    "            best_path = neighbor\n",
    "            best_distance = dist\n",
    "    return best_distance, best_path"
   ]
  },
  {
   "cell_type": "code",
   "execution_count": 15,
   "metadata": {},
   "outputs": [],
   "source": [
    "# ------------------------ SIMULATED ANNEALING ------------------------\n",
    "def run_simulated_annealing():\n",
    "    initial_temp = 100\n",
    "    cooling_rate = 0.995\n",
    "    min_temp = 1e-3\n",
    "\n",
    "    path = list(range(num_cities))\n",
    "    random.shuffle(path)\n",
    "    current_path = path.copy()\n",
    "    current_distance = total_distance(current_path)\n",
    "    best_path = path.copy()\n",
    "    best_distance = current_distance\n",
    "\n",
    "    temperature = initial_temp\n",
    "    while temperature > min_temp:\n",
    "        neighbor = get_neighbor(current_path)\n",
    "        neighbor_distance = total_distance(neighbor)\n",
    "        delta = neighbor_distance - current_distance\n",
    "\n",
    "        if delta < 0 or random.random() < math.exp(-delta / temperature):\n",
    "            current_path = neighbor\n",
    "            current_distance = neighbor_distance\n",
    "\n",
    "            if current_distance < best_distance:\n",
    "                best_path = current_path\n",
    "                best_distance = current_distance\n",
    "\n",
    "        temperature *= cooling_rate\n",
    "\n",
    "    return best_distance, best_path"
   ]
  },
  {
   "cell_type": "code",
   "execution_count": 16,
   "metadata": {},
   "outputs": [],
   "source": [
    "# ------------------------ RUN MULTIPLE TIMES ------------------------\n",
    "hc_distances, hc_times, hc_paths = [], [], []\n",
    "sa_distances, sa_times, sa_paths = [], [], []\n",
    "\n",
    "for i in range(5):\n",
    "    start = time.time()\n",
    "    d, p = run_hill_climbing()\n",
    "    t = time.time() - start\n",
    "    hc_distances.append(d)\n",
    "    hc_times.append(t)\n",
    "    hc_paths.append(p)\n",
    "\n",
    "    start = time.time()\n",
    "    d, p = run_simulated_annealing()\n",
    "    t = time.time() - start\n",
    "    sa_distances.append(d)\n",
    "    sa_times.append(t)\n",
    "    sa_paths.append(p)"
   ]
  },
  {
   "cell_type": "code",
   "execution_count": 17,
   "metadata": {},
   "outputs": [
    {
     "name": "stdout",
     "output_type": "stream",
     "text": [
      "Avg HC Distance: 4.717, Avg Time: 0.0434s\n",
      "Avg SA Distance: 4.574, Avg Time: 0.0998s\n"
     ]
    }
   ],
   "source": [
    "# ------------------------ STATS + PLOTTING ------------------------\n",
    "\n",
    "avg_hc_time = np.mean(hc_times)\n",
    "avg_sa_time = np.mean(sa_times)\n",
    "avg_hc_dist = np.mean(hc_distances)\n",
    "avg_sa_dist = np.mean(sa_distances)\n",
    "\n",
    "print(f\"Avg HC Distance: {avg_hc_dist:.3f}, Avg Time: {avg_hc_time:.4f}s\")\n",
    "print(f\"Avg SA Distance: {avg_sa_dist:.3f}, Avg Time: {avg_sa_time:.4f}s\")\n",
    "\n",
    "labels = ['Hill Climbing', 'Simulated Annealing']\n",
    "\n",
    "# Runtime and Distance Comparison\n",
    "plt.figure(figsize=(10, 4))\n",
    "plt.subplot(1, 2, 1)\n",
    "plt.bar(labels, [avg_hc_time, avg_sa_time], color=['blue', 'green'])\n",
    "plt.ylabel(\"Avg Runtime (s)\")\n",
    "plt.title(\"Avg Runtime Comparison\")\n",
    "\n",
    "plt.subplot(1, 2, 2)\n",
    "plt.bar(labels, [avg_hc_dist, avg_sa_dist], color=['blue', 'green'])\n",
    "plt.ylabel(\"Avg Final Distance\")\n",
    "plt.title(\"Avg Path Distance Comparison\")\n",
    "\n",
    "# Save charts as PNG\n",
    "plt.tight_layout()\n",
    "plt.savefig(\"runtime_distance_comparison.png\")\n",
    "plt.close()"
   ]
  },
  {
   "cell_type": "code",
   "execution_count": 18,
   "metadata": {},
   "outputs": [],
   "source": [
    "# ------------------------ LINE CHART FOR EACH RUN ------------------------\n",
    "\n",
    "# Plot Line Charts for Time Comparison\n",
    "plt.figure(figsize=(10, 5))\n",
    "plt.plot(range(1, 6), hc_times, label=\"Hill Climbing\", marker='o', color='blue')\n",
    "plt.plot(range(1, 6), sa_times, label=\"Simulated Annealing\", marker='o', color='green')\n",
    "plt.xlabel(\"Run Number\")\n",
    "plt.ylabel(\"Runtime (seconds)\")\n",
    "plt.title(\"Runtime Comparison for Each Run\")\n",
    "plt.legend()\n",
    "\n",
    "# Save line chart for runtime\n",
    "plt.savefig(\"runtime_comparison_line_chart.png\")\n",
    "plt.close()\n",
    "\n",
    "# Plot Line Charts for Distance Comparison\n",
    "plt.figure(figsize=(10, 5))\n",
    "plt.plot(range(1, 6), hc_distances, label=\"Hill Climbing\", marker='o', color='blue')\n",
    "plt.plot(range(1, 6), sa_distances, label=\"Simulated Annealing\", marker='o', color='green')\n",
    "plt.xlabel(\"Run Number\")\n",
    "plt.ylabel(\"Final Distance\")\n",
    "plt.title(\"Final Distance Comparison for Each Run\")\n",
    "plt.legend()\n",
    "\n",
    "# Save line chart for distance\n",
    "plt.savefig(\"distance_comparison_line_chart.png\")\n",
    "plt.close()"
   ]
  },
  {
   "cell_type": "code",
   "execution_count": 19,
   "metadata": {},
   "outputs": [],
   "source": [
    "# ------------------------ BEST ROUTE PLOTS ------------------------\n",
    "\n",
    "def plot_best_route(best_path, algo_name, color, filename):\n",
    "    coords = cities[best_path + [best_path[0]]]  # loop back to start\n",
    "    plt.figure(figsize=(6, 6))\n",
    "    plt.plot(coords[:, 0], coords[:, 1], marker='o', color=color, lw=2)\n",
    "    plt.scatter(cities[:, 0], cities[:, 1], c='black')\n",
    "    plt.scatter(*cities[best_path[0]], c='green', s=100, label='Start')\n",
    "    plt.scatter(*cities[best_path[-1]], c='red', s=100, label='End')\n",
    "    plt.title(f\"Best Route ({algo_name})\\nDistance: {total_distance(best_path):.3f}\")\n",
    "    plt.legend()\n",
    "    plt.grid(True)\n",
    "    \n",
    "    # Save the best route plot as PNG\n",
    "    plt.savefig(filename)\n",
    "    plt.close()\n",
    "\n",
    "# Best paths\n",
    "best_hc_index = np.argmin(hc_distances)\n",
    "best_sa_index = np.argmin(sa_distances)\n",
    "\n",
    "# Plot and save best routes for both algorithms\n",
    "plot_best_route(hc_paths[best_hc_index], \"Hill Climbing\", \"blue\", \"best_route_hc.png\")\n",
    "plot_best_route(sa_paths[best_sa_index], \"Simulated Annealing\", \"green\", \"best_route_sa.png\")"
   ]
  },
  {
   "cell_type": "code",
   "execution_count": 20,
   "metadata": {},
   "outputs": [
    {
     "name": "stdout",
     "output_type": "stream",
     "text": [
      "Charts and GIFs saved successfully!\n"
     ]
    }
   ],
   "source": [
    "# ------------------------ GIF ANIMATION ------------------------\n",
    "\n",
    "import matplotlib.animation as animation\n",
    "\n",
    "def animate_path(path_history, filename, color, title):\n",
    "    fig, ax = plt.subplots(figsize=(8, 6))\n",
    "    ax.set_xlim(0, 1)\n",
    "    ax.set_ylim(0, 1)\n",
    "    ax.scatter(cities[:, 0], cities[:, 1], c='black')\n",
    "    line, = ax.plot([], [], color=color, lw=2)\n",
    "    title_obj = ax.set_title(title)\n",
    "\n",
    "    def update(frame):\n",
    "        path = path_history[frame]\n",
    "        coords = cities[path + [path[0]]]\n",
    "        line.set_data(coords[:, 0], coords[:, 1])\n",
    "        title_obj.set_text(f\"Step {frame} | Distance: {total_distance(path):.3f}\")\n",
    "        return line, title_obj\n",
    "\n",
    "    ani = animation.FuncAnimation(fig, update, frames=len(path_history), interval=200, blit=False)\n",
    "    ani.save(filename, writer='pillow', fps=5)\n",
    "    plt.close()\n",
    "\n",
    "# Save GIF for Hill Climbing\n",
    "animate_path(hc_paths, \"hill_climbing_animation.gif\", \"blue\", \"Hill Climbing Path Animation\")\n",
    "\n",
    "# Save GIF for Simulated Annealing\n",
    "animate_path(sa_paths, \"simulated_annealing_animation.gif\", \"green\", \"Simulated Annealing Path Animation\")\n",
    "\n",
    "print(\"Charts and GIFs saved successfully!\")\n"
   ]
  }
 ],
 "metadata": {
  "kernelspec": {
   "display_name": "gymenv",
   "language": "python",
   "name": "python3"
  },
  "language_info": {
   "codemirror_mode": {
    "name": "ipython",
    "version": 3
   },
   "file_extension": ".py",
   "mimetype": "text/x-python",
   "name": "python",
   "nbconvert_exporter": "python",
   "pygments_lexer": "ipython3",
   "version": "3.11.11"
  }
 },
 "nbformat": 4,
 "nbformat_minor": 2
}
